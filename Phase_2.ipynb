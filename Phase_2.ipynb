{
 "cells": [
  {
   "cell_type": "code",
   "execution_count": 1,
   "metadata": {
    "collapsed": false
   },
   "outputs": [
    {
     "name": "stdout",
     "output_type": "stream",
     "text": [
      "Populating the interactive namespace from numpy and matplotlib\n"
     ]
    },
    {
     "name": "stderr",
     "output_type": "stream",
     "text": [
      "WARNING: pylab import has clobbered these variables: ['plt']\n",
      "`%matplotlib` prevents importing * from pylab and numpy\n"
     ]
    }
   ],
   "source": [
    "import geopandas as gpd\n",
    "import pandas as pd\n",
    "import numpy as np\n",
    "import matplotlib.pylab as plt\n",
    "from bs4 import BeautifulSoup\n",
    "import urllib\n",
    "import shapely\n",
    "from shapely.ops import cascaded_union\n",
    "import math\n",
    "import json\n",
    "%pylab inline"
   ]
  },
  {
   "cell_type": "code",
   "execution_count": 2,
   "metadata": {
    "collapsed": false
   },
   "outputs": [],
   "source": [
    "# Census data\n",
    "population_by_dwelling = pd.read_csv('https://www.dropbox.com/s/hd2na0f663jt086/Resident%20Population%20by%20Planning%20Area_Subzone%20and%20Type%20of%20Dwelling.csv?dl=1')\n",
    "transportation_mode = pd.read_csv('https://www.dropbox.com/s/wgoctuksbcz2zdk/Resident%20Working%20Persons%20Usual%20Mode%20of%20Transport%20to%20Work.csv?dl=1')\n",
    "population_by_age = pd.read_csv('https://www.dropbox.com/s/bhd8j7a8sxkssfc/POP2015.csv?dl=1')\n",
    "population_by_race = pd.read_csv('https://www.dropbox.com/s/v53je5tntk3gy73/Resident%20Population%20by%20Planning%20Area_Subzone%2C%20Ethnic%20Group%20and%20Sex.csv?dl=1')\n",
    "# Spatial data\n",
    "area = gpd.read_file('Data/SpatialData/singapore_planning_areas.geojson')\n",
    "area.rename(columns={'Planning_A':'Planning_Area'},inplace=True)"
   ]
  },
  {
   "cell_type": "code",
   "execution_count": 3,
   "metadata": {
    "collapsed": false
   },
   "outputs": [],
   "source": [
    "# Prepare for merger\n",
    "def upper_case(df):\n",
    "    # Delete observations not containing TOTAL if a TOTAl observation exists\n",
    "    df['Planning_Area'] = df['Planning_Area'].apply(lambda x: x.replace('-','').upper().replace('TOTAL','').strip())\n",
    "    df = df.drop_duplicates(subset='Planning_Area')\n",
    "    return df"
   ]
  },
  {
   "cell_type": "code",
   "execution_count": 4,
   "metadata": {
    "collapsed": false
   },
   "outputs": [],
   "source": [
    "population_by_age = upper_case(population_by_age)\n",
    "transportation_mode = upper_case(transportation_mode)\n",
    "population_by_dwelling = upper_case(population_by_dwelling)\n",
    "population_by_race = upper_case(population_by_race)"
   ]
  },
  {
   "cell_type": "code",
   "execution_count": null,
   "metadata": {
    "collapsed": false
   },
   "outputs": [],
   "source": [
    "#data = area.merge(population_by_age,on='Planning_Area',how='inner')\n",
    "#data = gpd.GeoDataFrame(data)"
   ]
  },
  {
   "cell_type": "code",
   "execution_count": null,
   "metadata": {
    "collapsed": false
   },
   "outputs": [],
   "source": [
    "#data.plot()"
   ]
  },
  {
   "cell_type": "code",
   "execution_count": null,
   "metadata": {
    "collapsed": false
   },
   "outputs": [],
   "source": [
    "# North-East Island above Changi is not inhabitated.\n",
    "#area.plot()"
   ]
  },
  {
   "cell_type": "code",
   "execution_count": null,
   "metadata": {
    "collapsed": false
   },
   "outputs": [],
   "source": [
    "#for col in list(data.columns)[2:]:\n",
    "#    data[col] = np.where(data[col].apply(lambda x: x=='  '),np.nan,data[col])\n",
    "#    data[col] = data[col].astype(float)\n",
    "#data['Youth'] = (data[' 0 - 4 '] + data[' 5 - 9 '] + data[' 10 - 14 '] + data[' 15 - 19 '])/data[' Total ']\n",
    "#data['Elderly'] = (data[' 65 - 69 '] + data[' 70 - 74 '] + data[' 75 - 79 '] + data[' 80 - 84 '] + data[' 85 & Over '])/data[' Total ']\n",
    "\n",
    "# Modify data in ArcGIS to get only one shapefile for each Planning Area\n",
    "#with open('data.geojson', 'w') as f:\n",
    "#    f.write(data.to_json())"
   ]
  },
  {
   "cell_type": "code",
   "execution_count": 5,
   "metadata": {
    "collapsed": false
   },
   "outputs": [],
   "source": [
    "# import modified data\n",
    "# Add race data\n",
    "#'https://www.dropbox.com/s/jcf1rpvzi4nivn0/planning_area_with_population.geojson?dl=1'\n",
    "data = gpd.read_file('Data/ProcessedData/planning_area_with_population.geojson')"
   ]
  },
  {
   "cell_type": "code",
   "execution_count": 6,
   "metadata": {
    "collapsed": true
   },
   "outputs": [],
   "source": [
    "population_by_race.rename(columns={' Total ':'Total_Population'},inplace=True)\n",
    "final = data.merge(population_by_race,on='Planning_Area',how='inner')\n",
    "for i in final.columns:\n",
    "    final[i] = np.where(final[i].apply(lambda x: x==' na '),np.nan,final[i])\n",
    "for i in [' Total_Chinese ',  ' Total_Malays ',' Total_Indians  ',  ' Total_Others  ']:\n",
    "    k = i.strip().replace('Total_','')\n",
    "    final[k] = final[i].astype(float)/final['Total_Population'].astype(float)    "
   ]
  },
  {
   "cell_type": "code",
   "execution_count": 7,
   "metadata": {
    "collapsed": false
   },
   "outputs": [],
   "source": [
    "final = final[['Planning_Area','geometry','Total_Population','Elderly','Youth','Chinese','Malays','Indians','Others']]"
   ]
  },
  {
   "cell_type": "code",
   "execution_count": 8,
   "metadata": {
    "collapsed": true
   },
   "outputs": [],
   "source": [
    "# Join data with other file that contains further spatial information obtained by joining the data in ArcGIS\n",
    "other_data = gpd.read_file('Data/SpatialData/Planning_Area.geojson')"
   ]
  },
  {
   "cell_type": "code",
   "execution_count": 9,
   "metadata": {
    "collapsed": false
   },
   "outputs": [],
   "source": [
    "other_data = other_data[['Planning_A','Rec_Bin','W_Facility']]\n",
    "other_data.rename(columns={'Planning_A':'Planning_Area'},inplace=True)"
   ]
  },
  {
   "cell_type": "code",
   "execution_count": 10,
   "metadata": {
    "collapsed": false
   },
   "outputs": [],
   "source": [
    "final = other_data.merge(final,on='Planning_Area',how='inner')"
   ]
  },
  {
   "cell_type": "code",
   "execution_count": 13,
   "metadata": {
    "collapsed": false
   },
   "outputs": [],
   "source": [
    "final = gpd.GeoDataFrame(final)"
   ]
  },
  {
   "cell_type": "code",
   "execution_count": 14,
   "metadata": {
    "collapsed": false
   },
   "outputs": [],
   "source": [
    "with open('data.geojson', 'w') as f:\n",
    "    f.write(final.to_json())"
   ]
  },
  {
   "cell_type": "raw",
   "metadata": {},
   "source": [
    "# Add transportation data\n",
    "transportation_mode.Planning_Area = transportation_mode.Planning_Area.apply(lambda x: x.strip().upper())\n",
    "data.rename(columns={' Total ':'Total_Population'},inplace=True)\n",
    "transportation_mode.rename(columns={' Total ':'Total_Transportation'},inplace=True)\n",
    "data.drop('id',axis=1,inplace=True)\n",
    "final = data.merge(transportation_mode,on='Planning_Area',how='left')\n",
    "of_interest = ['Total_Transportation',' Public Bus Only ',' MRT Only ',' MRT & Public Bus Only ',' Other Combinations of MRT or Public Bus ',' Taxi Only ',' Car Only ',\n",
    "                    ' Private Chartered Bus/Van Only ',\n",
    "                                 ' Lorry/Pickup Only ',\n",
    "                          ' Motorcycle/ Scooter Only ',\n",
    "                                            ' Others ',\n",
    "                             ' No Transport Required ']\n",
    "                             \n",
    "for i in final.Planning_Area.values:\n",
    "    print i\n",
    "    if (final[final.Planning_Area==i][' 20 - 24 '].values[0] != np.nan) & (final[final.Planning_Area==i]['Total_Transportation'].values[0] == np.nan):\n",
    "        final[final.Planning_Area==i][of_interest] = \n",
    "    else:\n",
    "        pass"
   ]
  }
 ],
 "metadata": {
  "kernelspec": {
   "display_name": "Python 2",
   "language": "python",
   "name": "python2"
  },
  "language_info": {
   "codemirror_mode": {
    "name": "ipython",
    "version": 2
   },
   "file_extension": ".py",
   "mimetype": "text/x-python",
   "name": "python",
   "nbconvert_exporter": "python",
   "pygments_lexer": "ipython2",
   "version": "2.7.11"
  }
 },
 "nbformat": 4,
 "nbformat_minor": 0
}
