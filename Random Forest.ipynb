{
 "cells": [
  {
   "cell_type": "code",
   "execution_count": 2,
   "metadata": {
    "collapsed": false
   },
   "outputs": [
    {
     "name": "stdout",
     "output_type": "stream",
     "text": [
      "Populating the interactive namespace from numpy and matplotlib\n"
     ]
    },
    {
     "name": "stderr",
     "output_type": "stream",
     "text": [
      "WARNING: pylab import has clobbered these variables: ['plt']\n",
      "`%matplotlib` prevents importing * from pylab and numpy\n"
     ]
    }
   ],
   "source": [
    "import pandas as pd\n",
    "import numpy as np\n",
    "from sklearn.pipeline import Pipeline\n",
    "from sklearn.decomposition import PCA\n",
    "from sklearn.ensemble import RandomForestClassifier\n",
    "from sklearn.grid_search import GridSearchCV\n",
    "from sklearn.cross_validation import train_test_split\n",
    "from sklearn.metrics import accuracy_score\n",
    "from sklearn.cross_validation import KFold\n",
    "from sklearn import datasets\n",
    "import itertools\n",
    "import matplotlib.pylab as plt\n",
    "plt.style.use('ggplot')\n",
    "%pylab inline"
   ]
  },
  {
   "cell_type": "code",
   "execution_count": 4,
   "metadata": {
    "collapsed": false
   },
   "outputs": [],
   "source": [
    "data = pd.DataFrame(np.random.uniform(-10,10,size=(600,10)),columns=('a','b','c','d','e','f','g','h','i','k'))\n",
    "data.head()\n",
    "X = data[data.columns.difference(['k'])].as_matrix()\n",
    "Y = pd.qcut(data['k'],q=2,labels=[0,1]).astype(int).as_matrix()\n",
    "\n",
    "#iris = datasets.load_iris()\n",
    "#X = iris.data  \n",
    "#Y = iris.target"
   ]
  },
  {
   "cell_type": "code",
   "execution_count": 3,
   "metadata": {
    "collapsed": false
   },
   "outputs": [],
   "source": [
    "#data = pd.read_csv('https://www.dropbox.com/s/0w5qlre97sogef8/sqf_train_cpw.csv?dl=1')"
   ]
  },
  {
   "cell_type": "code",
   "execution_count": 21,
   "metadata": {
    "collapsed": false
   },
   "outputs": [
    {
     "name": "stderr",
     "output_type": "stream",
     "text": [
      "/anaconda/lib/python2.7/site-packages/ipykernel/__main__.py:4: FutureWarning: 'labels' is deprecated. Use 'codes' instead\n"
     ]
    }
   ],
   "source": [
    "for col,dtyp in zip(data.columns,data.dtypes):\n",
    "    if (dtyp!='int64')&(dtyp!='float64'):\n",
    "        t = pd.Categorical(data[col])\n",
    "        data[col] = t.labels"
   ]
  },
  {
   "cell_type": "code",
   "execution_count": 22,
   "metadata": {
    "collapsed": false
   },
   "outputs": [
    {
     "data": {
      "text/html": [
       "<div>\n",
       "<table border=\"1\" class=\"dataframe\">\n",
       "  <thead>\n",
       "    <tr style=\"text-align: right;\">\n",
       "      <th></th>\n",
       "      <th>id</th>\n",
       "      <th>year</th>\n",
       "      <th>found.weapon</th>\n",
       "      <th>found.gun</th>\n",
       "      <th>arrested</th>\n",
       "      <th>suspect.race</th>\n",
       "      <th>suspect.age</th>\n",
       "      <th>suspect.build</th>\n",
       "      <th>suspect.sex</th>\n",
       "      <th>suspect.height</th>\n",
       "      <th>...</th>\n",
       "      <th>additional.associating</th>\n",
       "      <th>additional.direction</th>\n",
       "      <th>additional.highcrime</th>\n",
       "      <th>additional.time</th>\n",
       "      <th>additional.sights</th>\n",
       "      <th>additional.other</th>\n",
       "      <th>radio.run</th>\n",
       "      <th>day</th>\n",
       "      <th>month</th>\n",
       "      <th>time.period</th>\n",
       "    </tr>\n",
       "  </thead>\n",
       "  <tbody>\n",
       "    <tr>\n",
       "      <th>0</th>\n",
       "      <td>1565349</td>\n",
       "      <td>2009</td>\n",
       "      <td>0</td>\n",
       "      <td>0</td>\n",
       "      <td>0</td>\n",
       "      <td>2</td>\n",
       "      <td>-0.016428</td>\n",
       "      <td>3</td>\n",
       "      <td>1</td>\n",
       "      <td>0.027557</td>\n",
       "      <td>...</td>\n",
       "      <td>0</td>\n",
       "      <td>1</td>\n",
       "      <td>0</td>\n",
       "      <td>0</td>\n",
       "      <td>0</td>\n",
       "      <td>0</td>\n",
       "      <td>0</td>\n",
       "      <td>2</td>\n",
       "      <td>4</td>\n",
       "      <td>6</td>\n",
       "    </tr>\n",
       "    <tr>\n",
       "      <th>1</th>\n",
       "      <td>2582029</td>\n",
       "      <td>2010</td>\n",
       "      <td>0</td>\n",
       "      <td>0</td>\n",
       "      <td>0</td>\n",
       "      <td>1</td>\n",
       "      <td>-0.418262</td>\n",
       "      <td>3</td>\n",
       "      <td>1</td>\n",
       "      <td>1.007377</td>\n",
       "      <td>...</td>\n",
       "      <td>0</td>\n",
       "      <td>1</td>\n",
       "      <td>0</td>\n",
       "      <td>0</td>\n",
       "      <td>0</td>\n",
       "      <td>0</td>\n",
       "      <td>0</td>\n",
       "      <td>0</td>\n",
       "      <td>10</td>\n",
       "      <td>5</td>\n",
       "    </tr>\n",
       "  </tbody>\n",
       "</table>\n",
       "<p>2 rows × 40 columns</p>\n",
       "</div>"
      ],
      "text/plain": [
       "        id  year  found.weapon  found.gun  arrested  suspect.race  \\\n",
       "0  1565349  2009             0          0         0             2   \n",
       "1  2582029  2010             0          0         0             1   \n",
       "\n",
       "   suspect.age  suspect.build  suspect.sex  suspect.height     ...       \\\n",
       "0    -0.016428              3            1        0.027557     ...        \n",
       "1    -0.418262              3            1        1.007377     ...        \n",
       "\n",
       "   additional.associating  additional.direction  additional.highcrime  \\\n",
       "0                       0                     1                     0   \n",
       "1                       0                     1                     0   \n",
       "\n",
       "   additional.time  additional.sights  additional.other  radio.run  day  \\\n",
       "0                0                  0                 0          0    2   \n",
       "1                0                  0                 0          0    0   \n",
       "\n",
       "   month  time.period  \n",
       "0      4            6  \n",
       "1     10            5  \n",
       "\n",
       "[2 rows x 40 columns]"
      ]
     },
     "execution_count": 22,
     "metadata": {},
     "output_type": "execute_result"
    }
   ],
   "source": [
    "X = data[data.columns.difference(['id','found.weapon','found.gun','arrested'])].as_matrix()\n",
    "Y = data['found.gun'].as_matrix()\n",
    "Y = np.where(Y==False,0,1)\n",
    "data.head(2)"
   ]
  },
  {
   "cell_type": "code",
   "execution_count": 8,
   "metadata": {
    "collapsed": true
   },
   "outputs": [],
   "source": [
    "# http://scikit-learn.org/stable/auto_examples/plot_digits_pipe.html\n",
    "pca = PCA(n_components=10)\n",
    "forest = RandomForestClassifier()\n",
    "pipe = Pipeline(steps=[('pca', pca), ('forest', forest)])"
   ]
  },
  {
   "cell_type": "code",
   "execution_count": 28,
   "metadata": {
    "collapsed": false
   },
   "outputs": [
    {
     "name": "stdout",
     "output_type": "stream",
     "text": [
      "(310652, 36)\n",
      "(310652,)\n",
      "[0 1]\n"
     ]
    }
   ],
   "source": [
    "print X.shape\n",
    "print Y.shape\n",
    "print np.unique(Y)"
   ]
  },
  {
   "cell_type": "code",
   "execution_count": 29,
   "metadata": {
    "collapsed": true
   },
   "outputs": [],
   "source": [
    "X_train, X_test = train_test_split(X, test_size=0.2, random_state=21)\n",
    "Y_train, Y_test = train_test_split(Y, test_size=0.2, random_state=21)"
   ]
  },
  {
   "cell_type": "code",
   "execution_count": 30,
   "metadata": {
    "collapsed": false
   },
   "outputs": [
    {
     "data": {
      "text/plain": [
       "PCA(copy=True, n_components=10, whiten=False)"
      ]
     },
     "execution_count": 30,
     "metadata": {},
     "output_type": "execute_result"
    }
   ],
   "source": [
    "pca.fit(X_train)"
   ]
  },
  {
   "cell_type": "code",
   "execution_count": 31,
   "metadata": {
    "collapsed": false
   },
   "outputs": [
    {
     "data": {
      "image/png": "[encoded data removed]",
      "text/plain": [
       "<matplotlib.figure.Figure at 0x11989d350>"
      ]
     },
     "metadata": {},
     "output_type": "display_data"
    }
   ],
   "source": [
    "plt.figure(1, figsize=(6, 6))\n",
    "plt.plot(pca.explained_variance_, linewidth=2, c='salmon', alpha=0.8)\n",
    "plt.axis('tight')\n",
    "plt.xlabel('Number of components');\n",
    "plt.ylabel('Explained Variance');"
   ]
  },
  {
   "cell_type": "code",
   "execution_count": 9,
   "metadata": {
    "collapsed": false
   },
   "outputs": [],
   "source": [
    "#check parameters for GridSearchCV using estimator.get_params().keys()\n",
    "n_components = [1,2,3,4]#,5,6,7]\n",
    "max_features = ['auto','sqrt','log2']\n",
    "criterion = ['gini','entropy']\n",
    "n_estimators = [3,6,9]\n",
    "estimator = GridSearchCV(pipe,dict(pca__n_components=n_components,\n",
    "                    forest__n_estimators=n_estimators, forest__criterion=criterion,\n",
    "                    forest__max_features=max_features),iid=True,cv=5,refit=True)"
   ]
  },
  {
   "cell_type": "code",
   "execution_count": 33,
   "metadata": {
    "collapsed": false
   },
   "outputs": [
    {
     "data": {
      "text/plain": [
       "GridSearchCV(cv=5, error_score='raise',\n",
       "       estimator=Pipeline(steps=[('pca', PCA(copy=True, n_components=10, whiten=False)), ('forest', RandomForestClassifier(bootstrap=True, class_weight=None, criterion='gini',\n",
       "            max_depth=None, max_features='auto', max_leaf_nodes=None,\n",
       "            min_samples_leaf=1, min_samples_split=2,\n",
       "            min_weight_fraction_leaf=0.0, n_estimators=10, n_jobs=1,\n",
       "            oob_score=False, random_state=None, verbose=0,\n",
       "            warm_start=False))]),\n",
       "       fit_params={}, iid=True, n_jobs=1,\n",
       "       param_grid={'forest__max_features': ['auto', 'sqrt', 'log2'], 'pca__n_components': [1, 2, 3, 4], 'forest__n_estimators': [3, 6, 9], 'forest__criterion': ['gini', 'entropy']},\n",
       "       pre_dispatch='2*n_jobs', refit=True, scoring=None, verbose=0)"
      ]
     },
     "execution_count": 33,
     "metadata": {},
     "output_type": "execute_result"
    }
   ],
   "source": [
    "estimator.fit(X_train, Y_train)"
   ]
  },
  {
   "cell_type": "code",
   "execution_count": 34,
   "metadata": {
    "collapsed": false
   },
   "outputs": [
    {
     "data": {
      "image/png": "[encoded data removed]",
      "text/plain": [
       "<matplotlib.figure.Figure at 0x119970d10>"
      ]
     },
     "metadata": {},
     "output_type": "display_data"
    }
   ],
   "source": [
    "plt.figure(1, figsize=(6, 6))\n",
    "plt.plot(pca.explained_variance_, linewidth=2, c='salmon', alpha=0.8)\n",
    "plt.axis('tight')\n",
    "plt.xlabel('Number of components');\n",
    "plt.ylabel('Explained Variance');\n",
    "plt.axvline(estimator.best_estimator_.named_steps['pca'].n_components,\n",
    "            linestyle=':', label='Number of components chosen')\n",
    "plt.legend(prop=dict(size=10))\n",
    "plt.show()"
   ]
  },
  {
   "cell_type": "code",
   "execution_count": 35,
   "metadata": {
    "collapsed": false
   },
   "outputs": [
    {
     "name": "stdout",
     "output_type": "stream",
     "text": [
      "Pipeline(steps=[('pca', PCA(copy=True, n_components=4, whiten=False)), ('forest', RandomForestClassifier(bootstrap=True, class_weight=None, criterion='entropy',\n",
      "            max_depth=None, max_features='sqrt', max_leaf_nodes=None,\n",
      "            min_samples_leaf=1, min_samples_split=2,\n",
      "            min_weight_fraction_leaf=0.0, n_estimators=9, n_jobs=1,\n",
      "            oob_score=False, random_state=None, verbose=0,\n",
      "            warm_start=False))])\n",
      "{'forest__max_features': 'sqrt', 'pca__n_components': 4, 'forest__n_estimators': 9, 'forest__criterion': 'entropy'}\n"
     ]
    }
   ],
   "source": [
    "print estimator.best_estimator_\n",
    "print estimator.best_params_"
   ]
  },
  {
   "cell_type": "code",
   "execution_count": 36,
   "metadata": {
    "collapsed": false
   },
   "outputs": [
    {
     "data": {
      "text/plain": [
       "0.99613312355897488"
      ]
     },
     "execution_count": 36,
     "metadata": {},
     "output_type": "execute_result"
    }
   ],
   "source": [
    "estimator.best_score_"
   ]
  },
  {
   "cell_type": "code",
   "execution_count": 149,
   "metadata": {
    "collapsed": false
   },
   "outputs": [],
   "source": [
    "pca = PCA(n_components=2)\n",
    "pca.fit(X_train)\n",
    "forest = RandomForestClassifier(bootstrap=True, class_weight=None, criterion='entropy',\n",
    "            max_depth=None, max_features='auto', max_leaf_nodes=None,\n",
    "            min_samples_leaf=1, min_samples_split=2,\n",
    "            min_weight_fraction_leaf=0.0, n_estimators=3, n_jobs=1,\n",
    "            oob_score=False, random_state=None, verbose=0,\n",
    "            warm_start=False).fit(pca.fit_transform(X_train),Y_train)"
   ]
  },
  {
   "cell_type": "code",
   "execution_count": 150,
   "metadata": {
    "collapsed": false
   },
   "outputs": [
    {
     "data": {
      "text/plain": [
       "array([ 0.86823105,  0.13176895])"
      ]
     },
     "execution_count": 150,
     "metadata": {},
     "output_type": "execute_result"
    }
   ],
   "source": [
    "forest.feature_importances_"
   ]
  },
  {
   "cell_type": "code",
   "execution_count": 152,
   "metadata": {
    "collapsed": false
   },
   "outputs": [
    {
     "data": {
      "text/plain": [
       "0.29999999999999999"
      ]
     },
     "execution_count": 152,
     "metadata": {},
     "output_type": "execute_result"
    }
   ],
   "source": [
    "accuracy_score(Y_test,forest.predict(pca.fit_transform(X_test)))"
   ]
  },
  {
   "cell_type": "markdown",
   "metadata": {},
   "source": [
    "### Manual Random Forest"
   ]
  },
  {
   "cell_type": "code",
   "execution_count": 72,
   "metadata": {
    "collapsed": true
   },
   "outputs": [],
   "source": [
    "from gridsearch import get_results"
   ]
  },
  {
   "cell_type": "code",
   "execution_count": 63,
   "metadata": {
    "collapsed": false
   },
   "outputs": [],
   "source": [
    "def get_results(n_components,max_features,criterion,n_estimators):\n",
    "    kf = KFold(n=len(X), n_folds=12, shuffle=True, random_state=21)\n",
    "    d = []\n",
    "    for train_index, test_index in kf:\n",
    "        for rf_features,criter,rf_estimators in itertools.product(max_features,criterion,n_estimators):\n",
    "            X_tr, X_test = X[train_index], X[test_index]\n",
    "            X_train, X_validation = train_test_split(X_tr, test_size=0.2, random_state=21)\n",
    "            Y_tr, Y_test = Y[train_index], Y[test_index]\n",
    "            Y_train, Y_validation = train_test_split(Y_tr, test_size=0.2, random_state=21)\n",
    "            del X_tr\n",
    "            del Y_tr\n",
    "            forest = RandomForestClassifier(bootstrap=True, class_weight=None, criterion=criter,\n",
    "                    max_depth=None, max_features=rf_features, max_leaf_nodes=None,\n",
    "                    min_samples_leaf=1, min_samples_split=2,\n",
    "                    min_weight_fraction_leaf=0.0, n_estimators=rf_estimators, n_jobs=1,\n",
    "                    oob_score=False, random_state=21, verbose=0,\n",
    "                    warm_start=False)\n",
    "            forest.fit(X_train,Y_train)\n",
    "            forest_pred = forest.predict(X_validation)\n",
    "            name = '%s,%s,%s'%(str(rf_features),str(criter),str(rf_estimators))\n",
    "            d.append((name,accuracy_score(Y_validation,forest_pred),X_train,X_test,Y_train,Y_test))\n",
    "            #forest_probs = forest.predict_proba(X_test)\n",
    "            #sig_clf = CalibratedClassifierCV(forest, method=\"sigmoid\", cv=\"prefit\")\n",
    "            #sig_clf.fit(X_validation, Y_validation)\n",
    "            #sig_clf_probs = sig_clf.predict_proba(X_test)\n",
    "            #sig_score = log_loss(Y_test, sig_clf_probs) \n",
    "    return sorted(d, key=lambda tup: tup[1])[-1]"
   ]
  },
  {
   "cell_type": "code",
   "execution_count": 73,
   "metadata": {
    "collapsed": false
   },
   "outputs": [
    {
     "ename": "NameError",
     "evalue": "global name 'KFold' is not defined",
     "output_type": "error",
     "traceback": [
      "\u001b[0;31m---------------------------------------------------------------------------\u001b[0m",
      "\u001b[0;31mNameError\u001b[0m                                 Traceback (most recent call last)",
      "\u001b[0;32m<ipython-input-73-53450aa462fc>\u001b[0m in \u001b[0;36m<module>\u001b[0;34m()\u001b[0m\n\u001b[0;32m----> 1\u001b[0;31m \u001b[0mbest\u001b[0m \u001b[0;34m=\u001b[0m \u001b[0mget_results\u001b[0m\u001b[0;34m(\u001b[0m\u001b[0mn_components\u001b[0m\u001b[0;34m,\u001b[0m\u001b[0mmax_features\u001b[0m\u001b[0;34m,\u001b[0m\u001b[0mcriterion\u001b[0m\u001b[0;34m,\u001b[0m\u001b[0mn_estimators\u001b[0m\u001b[0;34m)\u001b[0m\u001b[0;34m\u001b[0m\u001b[0m\n\u001b[0m",
      "\u001b[0;32m/Users/robert/Dropbox/University/Semester II/Machine Learning/Dengue/gridsearch.py\u001b[0m in \u001b[0;36mget_results\u001b[0;34m(n_components, max_features, criterion, n_estimators)\u001b[0m\n\u001b[1;32m      1\u001b[0m \u001b[0;32mdef\u001b[0m \u001b[0mget_results\u001b[0m\u001b[0;34m(\u001b[0m\u001b[0mn_components\u001b[0m\u001b[0;34m,\u001b[0m\u001b[0mmax_features\u001b[0m\u001b[0;34m,\u001b[0m\u001b[0mcriterion\u001b[0m\u001b[0;34m,\u001b[0m\u001b[0mn_estimators\u001b[0m\u001b[0;34m)\u001b[0m\u001b[0;34m:\u001b[0m\u001b[0;34m\u001b[0m\u001b[0m\n\u001b[0;32m----> 2\u001b[0;31m     \u001b[0mkf\u001b[0m \u001b[0;34m=\u001b[0m \u001b[0mKFold\u001b[0m\u001b[0;34m(\u001b[0m\u001b[0mn\u001b[0m\u001b[0;34m=\u001b[0m\u001b[0mlen\u001b[0m\u001b[0;34m(\u001b[0m\u001b[0mX\u001b[0m\u001b[0;34m)\u001b[0m\u001b[0;34m,\u001b[0m \u001b[0mn_folds\u001b[0m\u001b[0;34m=\u001b[0m\u001b[0;36m12\u001b[0m\u001b[0;34m,\u001b[0m \u001b[0mshuffle\u001b[0m\u001b[0;34m=\u001b[0m\u001b[0mTrue\u001b[0m\u001b[0;34m,\u001b[0m \u001b[0mrandom_state\u001b[0m\u001b[0;34m=\u001b[0m\u001b[0;36m21\u001b[0m\u001b[0;34m)\u001b[0m\u001b[0;34m\u001b[0m\u001b[0m\n\u001b[0m\u001b[1;32m      3\u001b[0m     \u001b[0md\u001b[0m \u001b[0;34m=\u001b[0m \u001b[0;34m[\u001b[0m\u001b[0;34m]\u001b[0m\u001b[0;34m\u001b[0m\u001b[0m\n\u001b[1;32m      4\u001b[0m     \u001b[0;32mfor\u001b[0m \u001b[0mtrain_index\u001b[0m\u001b[0;34m,\u001b[0m \u001b[0mtest_index\u001b[0m \u001b[0;32min\u001b[0m \u001b[0mkf\u001b[0m\u001b[0;34m:\u001b[0m\u001b[0;34m\u001b[0m\u001b[0m\n\u001b[1;32m      5\u001b[0m         \u001b[0;32mfor\u001b[0m \u001b[0mrf_features\u001b[0m\u001b[0;34m,\u001b[0m\u001b[0mcriter\u001b[0m\u001b[0;34m,\u001b[0m\u001b[0mrf_estimators\u001b[0m \u001b[0;32min\u001b[0m \u001b[0mitertools\u001b[0m\u001b[0;34m.\u001b[0m\u001b[0mproduct\u001b[0m\u001b[0;34m(\u001b[0m\u001b[0mmax_features\u001b[0m\u001b[0;34m,\u001b[0m\u001b[0mcriterion\u001b[0m\u001b[0;34m,\u001b[0m\u001b[0mn_estimators\u001b[0m\u001b[0;34m)\u001b[0m\u001b[0;34m:\u001b[0m\u001b[0;34m\u001b[0m\u001b[0m\n",
      "\u001b[0;31mNameError\u001b[0m: global name 'KFold' is not defined"
     ]
    }
   ],
   "source": [
    "best = get_results(n_components,max_features,criterion,n_estimators)"
   ]
  },
  {
   "cell_type": "code",
   "execution_count": 71,
   "metadata": {
    "collapsed": false
   },
   "outputs": [
    {
     "name": "stdout",
     "output_type": "stream",
     "text": [
      "(440, 9)\n",
      "(440,)\n",
      "0.62\n"
     ]
    }
   ],
   "source": [
    "best_params,X_train_best,X_test_best,Y_train_best,Y_test_best = best[0].split(','),best[2],best[3],best[4],best[5]\n",
    "print X_train_best.shape\n",
    "print Y_train_best.shape\n",
    "forest = RandomForestClassifier(bootstrap=True, class_weight=None, criterion=best_params[1],\n",
    "                max_depth=None, max_features=best_params[0], max_leaf_nodes=None,\n",
    "                min_samples_leaf=1, min_samples_split=2,\n",
    "                min_weight_fraction_leaf=0.0, n_estimators=int(best_params[2]), n_jobs=1,\n",
    "                oob_score=False, random_state=21, verbose=0,\n",
    "                warm_start=False)\n",
    "forest.fit(X_train_best,Y_train_best)\n",
    "print accuracy_score(Y_test_best,forest.predict(X_test_best))"
   ]
  }
 ],
 "metadata": {
  "kernelspec": {
   "display_name": "Python 2",
   "language": "python",
   "name": "python2"
  },
  "language_info": {
   "codemirror_mode": {
    "name": "ipython",
    "version": 2
   },
   "file_extension": ".py",
   "mimetype": "text/x-python",
   "name": "python",
   "nbconvert_exporter": "python",
   "pygments_lexer": "ipython2",
   "version": "2.7.11"
  }
 },
 "nbformat": 4,
 "nbformat_minor": 0
}
